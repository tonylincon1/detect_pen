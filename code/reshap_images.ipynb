{
 "cells": [
  {
   "cell_type": "markdown",
   "id": "66e2d1e3-465a-4df0-8174-6133bb9c6d88",
   "metadata": {},
   "source": [
    "# Imports"
   ]
  },
  {
   "cell_type": "code",
   "execution_count": 37,
   "id": "02bec4cf-5290-4962-8023-165bfdcb566a",
   "metadata": {},
   "outputs": [],
   "source": [
    "import os\n",
    "import cv2\n",
    "from tqdm import tqdm"
   ]
  },
  {
   "cell_type": "markdown",
   "id": "eba479d8-b69e-4d93-9402-84843235c447",
   "metadata": {},
   "source": [
    "# Reshape"
   ]
  },
  {
   "cell_type": "code",
   "execution_count": 38,
   "id": "7c680ce2-3925-42ff-aa43-9b00aeeb19d2",
   "metadata": {},
   "outputs": [
    {
     "data": {
      "text/plain": [
       "['.ipynb_checkpoints', 'reshap_images.ipynb', 'test', 'train']"
      ]
     },
     "execution_count": 38,
     "metadata": {},
     "output_type": "execute_result"
    }
   ],
   "source": [
    "os.listdir()"
   ]
  },
  {
   "cell_type": "code",
   "execution_count": 53,
   "id": "c2f458a8-cc90-4ed9-9219-c1f265dc32ad",
   "metadata": {},
   "outputs": [],
   "source": [
    "path_train = 'train/'\n",
    "path_test = 'test/'"
   ]
  },
  {
   "cell_type": "code",
   "execution_count": 47,
   "id": "25f79eb3-abe3-42bf-a598-1e47e547daec",
   "metadata": {},
   "outputs": [
    {
     "name": "stderr",
     "output_type": "stream",
     "text": [
      "100%|██████████████████████████████████████████████████████████████████████████████████| 80/80 [00:14<00:00,  5.64it/s]\n"
     ]
    }
   ],
   "source": [
    "for filename in tqdm(os.listdir(path_train)):\n",
    "    img=cv2.imread(os.path.join(path_train+filename))\n",
    "    img=cv2.resize(img,(640,640))\n",
    "    img=img.reshape(640,640,3)\n",
    "    cv2.imwrite(path_train+filename, img)"
   ]
  },
  {
   "cell_type": "code",
   "execution_count": 54,
   "id": "359d6511-d146-4ff0-b693-ffc839571d34",
   "metadata": {},
   "outputs": [
    {
     "name": "stderr",
     "output_type": "stream",
     "text": [
      "100%|██████████████████████████████████████████████████████████████████████████████████| 20/20 [00:03<00:00,  5.60it/s]\n"
     ]
    }
   ],
   "source": [
    "for filename in tqdm(os.listdir(path_test)):\n",
    "    img=cv2.imread(os.path.join(path_test+filename))\n",
    "    img=cv2.resize(img,(640,640))\n",
    "    img=img.reshape(640,640,3)\n",
    "    cv2.imwrite(path_test+filename, img)"
   ]
  },
  {
   "cell_type": "code",
   "execution_count": null,
   "id": "ab422a43-06bd-4729-86f2-d59160c591a0",
   "metadata": {},
   "outputs": [],
   "source": []
  }
 ],
 "metadata": {
  "kernelspec": {
   "display_name": "Python 3 (ipykernel)",
   "language": "python",
   "name": "python3"
  },
  "language_info": {
   "codemirror_mode": {
    "name": "ipython",
    "version": 3
   },
   "file_extension": ".py",
   "mimetype": "text/x-python",
   "name": "python",
   "nbconvert_exporter": "python",
   "pygments_lexer": "ipython3",
   "version": "3.9.13"
  }
 },
 "nbformat": 4,
 "nbformat_minor": 5
}
